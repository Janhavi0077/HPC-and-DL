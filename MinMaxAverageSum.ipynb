{
  "nbformat": 4,
  "nbformat_minor": 0,
  "metadata": {
    "colab": {
      "provenance": [],
      "authorship_tag": "ABX9TyM6LfjU9CZ+1G48jiAvu8kI",
      "include_colab_link": true
    },
    "kernelspec": {
      "name": "python3",
      "display_name": "Python 3"
    },
    "language_info": {
      "name": "python"
    }
  },
  "cells": [
    {
      "cell_type": "markdown",
      "metadata": {
        "id": "view-in-github",
        "colab_type": "text"
      },
      "source": [
        "<a href=\"https://colab.research.google.com/github/Janhavi0077/HPC-and-DL/blob/main/MinMaxAverageSum.ipynb\" target=\"_parent\"><img src=\"https://colab.research.google.com/assets/colab-badge.svg\" alt=\"Open In Colab\"/></a>"
      ]
    },
    {
      "cell_type": "code",
      "execution_count": null,
      "metadata": {
        "id": "wk7v9tyLZf4c"
      },
      "outputs": [],
      "source": [
        "!nvcc --version\n",
        "%env OMP_NUM_THREADS=3"
      ]
    },
    {
      "cell_type": "code",
      "source": [
        "%%writefile bfs.cpp\n",
        "\n",
        "#include<iostream>\n",
        "#include<omp.h>\n",
        "\n",
        "using namespace std;\n",
        "int minval(int arr[], int n){\n",
        "  int minval = arr[0];\n",
        "  #pragma omp parallel for reduction(min : minval)\n",
        "    for(int i = 0; i < n; i++){\n",
        "      if(arr[i] < minval) minval = arr[i];\n",
        "    }\n",
        "  return minval;\n",
        "}\n",
        "\n",
        "int maxval(int arr[], int n){\n",
        "  int maxval = arr[0];\n",
        "  #pragma omp parallel for reduction(max : maxval)\n",
        "    for(int i = 0; i < n; i++){\n",
        "      if(arr[i] > maxval) maxval = arr[i];\n",
        "    }\n",
        "  return maxval;\n",
        "}\n",
        "\n",
        "int sum(int arr[], int n){\n",
        "  int sum = 0;\n",
        "  #pragma omp parallel for reduction(+ : sum)\n",
        "    for(int i = 0; i < n; i++){\n",
        "      sum += arr[i];\n",
        "    }\n",
        "  return sum;\n",
        "}\n",
        "\n",
        "int average(int arr[], int n){\n",
        "  return (double)sum(arr, n) / n;\n",
        "}\n",
        "\n",
        "int main(){\n",
        "  int n = 5;\n",
        "  int arr[] = {1,2,3,4,5};\n",
        "  cout << \"The minimum value is: \" << minval(arr, n) << '\\n';\n",
        "  cout << \"The maximum value is: \" << maxval(arr, n) << '\\n';\n",
        "  cout << \"The summation is: \" << sum(arr, n) << '\\n';\n",
        "  cout << \"The average is: \" << average(arr, n) << '\\n';\n",
        "  return 0;\n",
        "}"
      ],
      "metadata": {
        "colab": {
          "base_uri": "https://localhost:8080/"
        },
        "id": "cyTI97ISZ3qc",
        "outputId": "e84569df-d0eb-4d14-f2a6-c47cb48fa18f"
      },
      "execution_count": 1,
      "outputs": [
        {
          "output_type": "stream",
          "name": "stdout",
          "text": [
            "Writing bfs.cpp\n"
          ]
        }
      ]
    },
    {
      "cell_type": "code",
      "source": [
        "!g++ -fopenmp bfs.cpp -o bfs"
      ],
      "metadata": {
        "id": "T1Q8QJGZaC8a"
      },
      "execution_count": 3,
      "outputs": []
    },
    {
      "cell_type": "code",
      "source": [
        "!./bfs"
      ],
      "metadata": {
        "colab": {
          "base_uri": "https://localhost:8080/"
        },
        "id": "v58eD1AXaOmF",
        "outputId": "37988fbc-33e4-42f2-803b-978a9612c64d"
      },
      "execution_count": 4,
      "outputs": [
        {
          "output_type": "stream",
          "name": "stdout",
          "text": [
            "The minimum value is: 1\n",
            "The maximum value is: 5\n",
            "The summation is: 15\n",
            "The average is: 3\n"
          ]
        }
      ]
    }
  ]
}