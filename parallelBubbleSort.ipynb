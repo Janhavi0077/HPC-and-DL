{
  "nbformat": 4,
  "nbformat_minor": 0,
  "metadata": {
    "colab": {
      "provenance": [],
      "authorship_tag": "ABX9TyMMwMZ7EvZwZs17sUnBiJ/X",
      "include_colab_link": true
    },
    "kernelspec": {
      "name": "python3",
      "display_name": "Python 3"
    },
    "language_info": {
      "name": "python"
    }
  },
  "cells": [
    {
      "cell_type": "markdown",
      "metadata": {
        "id": "view-in-github",
        "colab_type": "text"
      },
      "source": [
        "<a href=\"https://colab.research.google.com/github/Janhavi0077/HPC-and-DL/blob/main/parallelBubbleSort.ipynb\" target=\"_parent\"><img src=\"https://colab.research.google.com/assets/colab-badge.svg\" alt=\"Open In Colab\"/></a>"
      ]
    },
    {
      "cell_type": "code",
      "execution_count": 1,
      "metadata": {
        "colab": {
          "base_uri": "https://localhost:8080/"
        },
        "id": "2KU6lT-qXAkE",
        "outputId": "3e17d50c-8540-45ad-ed53-a1c947222441"
      },
      "outputs": [
        {
          "output_type": "stream",
          "name": "stdout",
          "text": [
            "nvcc: NVIDIA (R) Cuda compiler driver\n",
            "Copyright (c) 2005-2023 NVIDIA Corporation\n",
            "Built on Tue_Aug_15_22:02:13_PDT_2023\n",
            "Cuda compilation tools, release 12.2, V12.2.140\n",
            "Build cuda_12.2.r12.2/compiler.33191640_0\n",
            "env: OMP_NUM_THREADS=3\n"
          ]
        }
      ],
      "source": [
        "!nvcc --version\n",
        "%env OMP_NUM_THREADS=3"
      ]
    },
    {
      "cell_type": "code",
      "source": [
        "%%writefile bubble.cpp\n",
        "\n",
        "#include<iostream>\n",
        "#include<omp.h>\n",
        "\n",
        "using namespace std;\n",
        "\n",
        "void bubble(int array[], int n){\n",
        "    for (int i = 0; i < n - 1; i++){\n",
        "        for (int j = 0; j < n - i - 1; j++){\n",
        "            if (array[j] > array[j + 1]) swap(array[j], array[j + 1]);\n",
        "        }\n",
        "    }\n",
        "}\n",
        "\n",
        "void pBubble(int array[], int n){\n",
        "    //Sort odd indexed numbers\n",
        "    for(int i = 0; i < n; ++i){\n",
        "        #pragma omp for\n",
        "        for (int j = 1; j < n; j += 2){\n",
        "        if (array[j] < array[j-1])\n",
        "        {\n",
        "          swap(array[j], array[j - 1]);\n",
        "        }\n",
        "    }\n",
        "\n",
        "    // Synchronize\n",
        "    #pragma omp barrier\n",
        "\n",
        "    //Sort even indexed numbers\n",
        "    #pragma omp for\n",
        "    for (int j = 2; j < n; j += 2){\n",
        "      if (array[j] < array[j-1])\n",
        "      {\n",
        "        swap(array[j], array[j - 1]);\n",
        "      }\n",
        "    }\n",
        "  }\n",
        "}\n",
        "\n",
        "void printArray(int arr[], int n){\n",
        "    for(int i = 0; i < n; i++) cout << arr[i] << \" \";\n",
        "    cout << \"\\n\";\n",
        "}\n",
        "\n",
        "int main(){\n",
        "    // Set up variables\n",
        "    int n = 10;\n",
        "    int arr[n];\n",
        "    int brr[n];\n",
        "    double start_time, end_time;\n",
        "\n",
        "    // Create an array with numbers starting from n to 1\n",
        "    for(int i = 0, j = n; i < n; i++, j--) arr[i] = j;\n",
        "\n",
        "    // Sequential time\n",
        "    start_time = omp_get_wtime();\n",
        "    bubble(arr, n);\n",
        "    end_time = omp_get_wtime();\n",
        "    cout << \"Sequential Bubble Sort took : \" << end_time - start_time << \" seconds.\\n\";\n",
        "    printArray(arr, n);\n",
        "\n",
        "    // Reset the array\n",
        "    for(int i = 0, j = n; i < n; i++, j--) arr[i] = j;\n",
        "\n",
        "    // Parallel time\n",
        "    start_time = omp_get_wtime();\n",
        "    pBubble(arr, n);\n",
        "    end_time = omp_get_wtime();\n",
        "    cout << \"Parallel Bubble Sort took : \" << end_time - start_time << \" seconds.\\n\";\n",
        "    printArray(arr, n);\n",
        "}"
      ],
      "metadata": {
        "colab": {
          "base_uri": "https://localhost:8080/"
        },
        "id": "LwpR9zVMXdVs",
        "outputId": "3c9084c1-7016-402d-ec39-0af814c169cb"
      },
      "execution_count": 2,
      "outputs": [
        {
          "output_type": "stream",
          "name": "stdout",
          "text": [
            "Writing bubble.cpp\n"
          ]
        }
      ]
    },
    {
      "cell_type": "code",
      "source": [
        "!g++ -fopenmp bubble.cpp -o bubble"
      ],
      "metadata": {
        "id": "f_fT9CwjXnEs"
      },
      "execution_count": 3,
      "outputs": []
    },
    {
      "cell_type": "code",
      "source": [
        "!./bubble"
      ],
      "metadata": {
        "colab": {
          "base_uri": "https://localhost:8080/"
        },
        "id": "uxCcqRQ0XwRb",
        "outputId": "73dd271f-37a4-40dc-c1b9-86a0f2311fab"
      },
      "execution_count": 4,
      "outputs": [
        {
          "output_type": "stream",
          "name": "stdout",
          "text": [
            "Sequential Bubble Sort took : 1.539e-06 seconds.\n",
            "1 2 3 4 5 6 7 8 9 10 \n",
            "Parallel Bubble Sort took : 2.41e-06 seconds.\n",
            "1 2 3 4 5 6 7 8 9 10 \n"
          ]
        }
      ]
    }
  ]
}