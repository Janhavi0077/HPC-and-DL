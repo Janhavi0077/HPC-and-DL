{
  "nbformat": 4,
  "nbformat_minor": 0,
  "metadata": {
    "colab": {
      "provenance": [],
      "authorship_tag": "ABX9TyNR5/kUE2Ym/TuoPZADHdeR",
      "include_colab_link": true
    },
    "kernelspec": {
      "name": "python3",
      "display_name": "Python 3"
    },
    "language_info": {
      "name": "python"
    }
  },
  "cells": [
    {
      "cell_type": "markdown",
      "metadata": {
        "id": "view-in-github",
        "colab_type": "text"
      },
      "source": [
        "<a href=\"https://colab.research.google.com/github/Janhavi0077/HPC-and-DL/blob/main/DFSandBFS.ipynb\" target=\"_parent\"><img src=\"https://colab.research.google.com/assets/colab-badge.svg\" alt=\"Open In Colab\"/></a>"
      ]
    },
    {
      "cell_type": "code",
      "execution_count": 1,
      "metadata": {
        "colab": {
          "base_uri": "https://localhost:8080/"
        },
        "id": "nbHKkdP8YIaW",
        "outputId": "25eca80e-cc01-4753-e392-d3e554783518"
      },
      "outputs": [
        {
          "output_type": "stream",
          "name": "stdout",
          "text": [
            "nvcc: NVIDIA (R) Cuda compiler driver\n",
            "Copyright (c) 2005-2023 NVIDIA Corporation\n",
            "Built on Tue_Aug_15_22:02:13_PDT_2023\n",
            "Cuda compilation tools, release 12.2, V12.2.140\n",
            "Build cuda_12.2.r12.2/compiler.33191640_0\n",
            "env: OMP_NUM_THREADS=3\n"
          ]
        }
      ],
      "source": [
        "!nvcc --version\n",
        "%env OMP_NUM_THREADS=3"
      ]
    },
    {
      "cell_type": "code",
      "source": [
        "%%writefile bfs.cpp\n",
        "\n",
        "\n",
        "#include <iostream>\n",
        "#include <vector>\n",
        "#include <queue>\n",
        "#include <omp.h>\n",
        "\n",
        "using namespace std;\n",
        "\n",
        "// Graph class representing the adjacency list\n",
        "class Graph {\n",
        "    int V;  // Number of vertices\n",
        "    vector<vector<int>> adj;  // Adjacency list\n",
        "\n",
        "public:\n",
        "    Graph(int V) : V(V), adj(V) {}\n",
        "\n",
        "    // Add an edge to the graph\n",
        "    void addEdge(int v, int w) {\n",
        "        adj[v].push_back(w);\n",
        "    }\n",
        "\n",
        "    // Parallel Depth-First Search\n",
        "    void parallelDFS(int startVertex) {\n",
        "        vector<bool> visited(V, false);\n",
        "        parallelDFSUtil(startVertex, visited);\n",
        "    }\n",
        "\n",
        "    // Parallel DFS utility function\n",
        "    void parallelDFSUtil(int v, vector<bool>& visited) {\n",
        "        visited[v] = true;\n",
        "        cout << v << \" \";\n",
        "\n",
        "        #pragma omp parallel for\n",
        "        for (int i = 0; i < adj[v].size(); ++i) {\n",
        "            int n = adj[v][i];\n",
        "            if (!visited[n])\n",
        "                parallelDFSUtil(n, visited);\n",
        "        }\n",
        "    }\n",
        "\n",
        "    // Parallel Breadth-First Search\n",
        "    void parallelBFS(int startVertex) {\n",
        "        vector<bool> visited(V, false);\n",
        "        queue<int> q;\n",
        "\n",
        "        visited[startVertex] = true;\n",
        "        q.push(startVertex);\n",
        "\n",
        "        while (!q.empty()) {\n",
        "            int v = q.front();\n",
        "            q.pop();\n",
        "            cout << v << \" \";\n",
        "\n",
        "            #pragma omp parallel for\n",
        "            for (int i = 0; i < adj[v].size(); ++i) {\n",
        "                int n = adj[v][i];\n",
        "                if (!visited[n]) {\n",
        "                    visited[n] = true;\n",
        "                    q.push(n);\n",
        "                }\n",
        "            }\n",
        "        }\n",
        "    }\n",
        "};\n",
        "\n",
        "int main() {\n",
        "    // Create a graph\n",
        "    Graph g(7);\n",
        "    g.addEdge(0, 1);\n",
        "    g.addEdge(0, 2);\n",
        "    g.addEdge(1, 3);\n",
        "    g.addEdge(1, 4);\n",
        "    g.addEdge(2, 5);\n",
        "    g.addEdge(2, 6);\n",
        "\n",
        "    /*\n",
        "        0 -------->1\n",
        "        |         / \\\n",
        "        |        /   \\\n",
        "        |       /     \\\n",
        "        v       v       v\n",
        "        2 ----> 3       4\n",
        "        |      |\n",
        "        |      |\n",
        "        v      v\n",
        "        5      6\n",
        "    */\n",
        "\n",
        "    cout << \"Depth-First Search (DFS): \";\n",
        "    g.parallelDFS(0);\n",
        "    cout << endl;\n",
        "\n",
        "    cout << \"Breadth-First Search (BFS): \";\n",
        "    g.parallelBFS(0);\n",
        "    cout << endl;\n",
        "\n",
        "    return 0;\n",
        "}"
      ],
      "metadata": {
        "colab": {
          "base_uri": "https://localhost:8080/"
        },
        "id": "1t-OGw_bYiHb",
        "outputId": "90e1056c-9d06-4e56-91ee-686f46424a38"
      },
      "execution_count": 6,
      "outputs": [
        {
          "output_type": "stream",
          "name": "stdout",
          "text": [
            "Overwriting bfs.cpp\n"
          ]
        }
      ]
    },
    {
      "cell_type": "code",
      "source": [
        "!g++ bfs.cpp -o bfs -fopenmp"
      ],
      "metadata": {
        "id": "4hnSL1xAYoIU"
      },
      "execution_count": 7,
      "outputs": []
    },
    {
      "cell_type": "code",
      "source": [
        "!./bfs"
      ],
      "metadata": {
        "colab": {
          "base_uri": "https://localhost:8080/"
        },
        "id": "vWm9gqb4Y_IM",
        "outputId": "569a7250-d836-4b98-80db-345a3bfdc429"
      },
      "execution_count": 8,
      "outputs": [
        {
          "output_type": "stream",
          "name": "stdout",
          "text": [
            "Depth-First Search (DFS): 0 2 5 6 1 3 4 \n",
            "Breadth-First Search (BFS): 0 2 1 6 5 4 3 \n"
          ]
        }
      ]
    }
  ]
}