{
  "nbformat": 4,
  "nbformat_minor": 0,
  "metadata": {
    "colab": {
      "provenance": [],
      "authorship_tag": "ABX9TyNl7+KWCFcF5e6SQ/XFAxGh",
      "include_colab_link": true
    },
    "kernelspec": {
      "name": "python3",
      "display_name": "Python 3"
    },
    "language_info": {
      "name": "python"
    }
  },
  "cells": [
    {
      "cell_type": "markdown",
      "metadata": {
        "id": "view-in-github",
        "colab_type": "text"
      },
      "source": [
        "<a href=\"https://colab.research.google.com/github/Janhavi0077/HPC-and-DL/blob/main/ParallelMergeSort.ipynb\" target=\"_parent\"><img src=\"https://colab.research.google.com/assets/colab-badge.svg\" alt=\"Open In Colab\"/></a>"
      ]
    },
    {
      "cell_type": "code",
      "execution_count": 1,
      "metadata": {
        "colab": {
          "base_uri": "https://localhost:8080/"
        },
        "id": "UzTKY6tGUXYR",
        "outputId": "efea7183-0e0b-4a14-903c-79725d0590e4"
      },
      "outputs": [
        {
          "output_type": "stream",
          "name": "stdout",
          "text": [
            "nvcc: NVIDIA (R) Cuda compiler driver\n",
            "Copyright (c) 2005-2023 NVIDIA Corporation\n",
            "Built on Tue_Aug_15_22:02:13_PDT_2023\n",
            "Cuda compilation tools, release 12.2, V12.2.140\n",
            "Build cuda_12.2.r12.2/compiler.33191640_0\n",
            "env: OMP_NUM_THREADS=3\n"
          ]
        }
      ],
      "source": [
        "!nvcc --version\n",
        "%env OMP_NUM_THREADS=3"
      ]
    },
    {
      "cell_type": "code",
      "source": [
        "%%writefile merge.cpp\n",
        "\n",
        "#include<iostream>\n",
        "#include<omp.h>\n",
        "\n",
        "using namespace std;\n",
        "\n",
        "void mergesort(int a[], int i, int j);\n",
        "void merge(int a[], int i1, int j1, int i2, int j2);\n",
        "\n",
        "void mergesort(int a[], int i, int j)\n",
        "{\n",
        "    if (i < j)\n",
        "    {\n",
        "        int mid = (i + j) / 2;\n",
        "\n",
        "        {\n",
        "\n",
        "            {\n",
        "                mergesort(a, i, mid);\n",
        "            }\n",
        "\n",
        "            {\n",
        "                mergesort(a, mid + 1, j);\n",
        "            }\n",
        "        }\n",
        "        merge(a, i, mid, mid + 1, j);\n",
        "    }\n",
        "}\n",
        "\n",
        "void paramergesort(int a[], int i, int j)\n",
        "{\n",
        "    if (i < j)\n",
        "    {\n",
        "        int mid = (i + j) / 2;\n",
        "#pragma omp parallel sections\n",
        "        {\n",
        "#pragma omp section\n",
        "            {\n",
        "                mergesort(a, i, mid);\n",
        "            }\n",
        "#pragma omp section\n",
        "            {\n",
        "                mergesort(a, mid + 1, j);\n",
        "            }\n",
        "        }\n",
        "        merge(a, i, mid, mid + 1, j);\n",
        "    }\n",
        "}\n",
        "\n",
        "\n",
        "void merge(int a[], int i1, int j1, int i2, int j2)\n",
        "{\n",
        "    int temp[100000];\n",
        "    int i, j, k;\n",
        "    i = i1;\n",
        "    j = i2;\n",
        "    k = 0;\n",
        "\n",
        "    while (i <= j1 && j <= j2)\n",
        "    {\n",
        "        if (a[i] < a[j])\n",
        "        {\n",
        "            temp[k++] = a[i++];\n",
        "        }\n",
        "        else\n",
        "        {\n",
        "            temp[k++] = a[j++];\n",
        "        }\n",
        "    }\n",
        "\n",
        "    while (i <= j1)\n",
        "    {\n",
        "        temp[k++] = a[i++];\n",
        "    }\n",
        "\n",
        "    while (j <= j2)\n",
        "    {\n",
        "        temp[k++] = a[j++];\n",
        "    }\n",
        "\n",
        "    for (i = i1, j = 0; i <= j2; i++, j++)\n",
        "    {\n",
        "        a[i] = temp[j];\n",
        "    }\n",
        "}\n",
        "\n",
        "int main()\n",
        "{\n",
        "    int *a, n;\n",
        "\n",
        "    // Merge Sort\n",
        "    cout << \"\\nEnter total number of elements for merge sort: \";\n",
        "    cin >> n;\n",
        "    a = new int[n];\n",
        "    for (int i = 0; i < n; i++)\n",
        "    {\n",
        "        a[i] = rand() % 100; // Generate random numbers between 0 and 99\n",
        "    }\n",
        "\n",
        "    double start_time = omp_get_wtime(); // start timer for sequential merge sort\n",
        "    mergesort(a, 0, n - 1);\n",
        "    double end_time = omp_get_wtime(); // end timer for sequential merge sort\n",
        "\n",
        "    cout << \"\\nSorted array after sequential merge sort:\\n\";\n",
        "    for (int i = 0; i < n; i++)\n",
        "    {\n",
        "        cout << a[i] << \" \";\n",
        "    }\n",
        "    cout << \"\\nTime taken by sequential merge sort: \" << end_time - start_time << \" seconds\" << endl;\n",
        "\n",
        "    start_time = omp_get_wtime(); // start timer for parallel merge sort\n",
        "    paramergesort(a, 0, n - 1);\n",
        "\n",
        "    end_time = omp_get_wtime(); // end timer for parallel merge sort\n",
        "\n",
        "    cout << \"\\nSorted array after parallel merge sort:\\n\";\n",
        "    for (int i = 0; i < n; i++)\n",
        "    {\n",
        "        cout << a[i] << \" \";\n",
        "    }\n",
        "    cout << \"\\nTime taken by parallel merge sort: \" << end_time - start_time << \" seconds\" << endl;\n",
        "\n",
        "    delete[] a; // Don't forget to free the allocated memory\n",
        "\n",
        "    return 0;\n",
        "}"
      ],
      "metadata": {
        "colab": {
          "base_uri": "https://localhost:8080/"
        },
        "id": "IBIfzsjzUeZH",
        "outputId": "039ad5e8-0e64-4177-f018-681d3ef58c84"
      },
      "execution_count": 2,
      "outputs": [
        {
          "output_type": "stream",
          "name": "stdout",
          "text": [
            "Writing merge.cpp\n"
          ]
        }
      ]
    },
    {
      "cell_type": "code",
      "source": [
        "!g++ -fopenmp merge.cpp -o merge"
      ],
      "metadata": {
        "id": "9Z9wDtH9UllN"
      },
      "execution_count": 3,
      "outputs": []
    },
    {
      "cell_type": "code",
      "source": [
        "!./merge"
      ],
      "metadata": {
        "colab": {
          "base_uri": "https://localhost:8080/"
        },
        "id": "SBevKqYcUquF",
        "outputId": "56587c35-a904-4143-c727-4a9d8ca81153"
      },
      "execution_count": 4,
      "outputs": [
        {
          "output_type": "stream",
          "name": "stdout",
          "text": [
            "\n",
            "Enter total number of elements for merge sort: 7\n",
            "\n",
            "Sorted array after sequential merge sort:\n",
            "15 35 77 83 86 86 93 \n",
            "Time taken by sequential merge sort: 0.000335839 seconds\n",
            "\n",
            "Sorted array after parallel merge sort:\n",
            "15 35 77 83 86 86 93 \n",
            "Time taken by parallel merge sort: 0.000181336 seconds\n"
          ]
        }
      ]
    }
  ]
}